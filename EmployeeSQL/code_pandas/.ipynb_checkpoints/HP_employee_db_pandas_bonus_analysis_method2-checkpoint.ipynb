{
 "cells": [
  {
   "cell_type": "markdown",
   "metadata": {},
   "source": [
    "# SQL Homework - Employee Database: A Mystery in Two Parts\n",
    "\n",
    "\n",
    "## File Information and Author\n",
    "#### ----------------------------------------------\n",
    "#### HEADER COMMENTS\n",
    "#### DATE May 8, 2020\n",
    "#### AUTHOR Rob Gauer\n",
    "#### FILE NAME 'HP_employee_db_pandas_bonus_analysis.ipynb'\n",
    "#### ----------------------------------------------\n",
    "\n",
    "## Bonus (Optional)\n",
    "##### As you examine the data, you are overcome with a creeping suspicion that the dataset is fake. \n",
    "##### You surmise that your boss handed you spurious data in order to test the data engineering skills of a new employee. \n",
    "##### To confirm your hunch, you decide to take the following steps to generate a visualization of the data, \n",
    "##### with which you will confront your boss:\n",
    "\n",
    "##### 1. Import the SQL database into Pandas. (Yes, you could read the CSVs directly in Pandas, but you are, after all, trying to prove your technical mettle.) This step may require some research. Feel free to use the code below to get started. Be sure to make any necessary modifications for your username, password, host, port, and database name:\n",
    "    # from sqlalchemy import create_engine\n",
    "    # engine = create_engine('postgresql://localhost:5432/<your_db_name>')\n",
    "    # connection = engine.connect()\n",
    "    \n",
    "##### Consult SQLAlchemy documentation for more information.\n",
    "##### If using a password, do not upload your password to your GitHub repository. \n",
    "##### See https://www.youtube.com/watch?v=2uaTPmNvH0I and https://martin-thoma.com/configuration-files-in-python/ \n",
    "##### for more information.\n",
    "\n",
    "##### 2. Create a histogram to visualize the most common salary ranges for employees.\n",
    "##### 3. Create a bar chart of average salary by title.\n",
    "#####"
   ]
  },
  {
   "cell_type": "code",
   "execution_count": 1,
   "metadata": {},
   "outputs": [],
   "source": [
    "# Dependencies and Setup\n",
    "%matplotlib inline\n",
    "import matplotlib.pyplot as plt\n",
    "import numpy as np\n",
    "import pandas as pd\n",
    "import os\n",
    "import sys\n",
    "import psycopg2\n",
    "from configparser import ConfigParser"
   ]
  },
  {
   "cell_type": "code",
   "execution_count": 2,
   "metadata": {},
   "outputs": [],
   "source": [
    "# Import permissions to database\n",
    "sys.path.insert(0, \"/Users/rober/Desktop/ClassHomework/keys\")\n",
    "#from conndb import (username, password, host, port)\n",
    "\n",
    "#from conndb import username, password, host, port \n",
    "# need conndb.py file containing this info"
   ]
  },
  {
   "cell_type": "code",
   "execution_count": 3,
   "metadata": {},
   "outputs": [],
   "source": [
    "def conndb(filename='database.ini', section='postgresql'):\n",
    "    # create a parser\n",
    "    parser = ConfigParser()\n",
    "    # read config file\n",
    "    parser.read(filename)\n",
    " \n",
    "    # get section, default to postgresql\n",
    "    db = {employee_db}\n",
    "    \n",
    "    # Checks to see if section (postgresql) parser exists\n",
    "    if parser.has_section(section):\n",
    "        params = parser.items(section)\n",
    "        for param in params:\n",
    "            db[param[0]] = param[1]\n",
    "         \n",
    "    # Returns an error if a parameter is called that is not listed in the initialization file\n",
    "    else:\n",
    "        raise Exception('Section {0} not found in the {1} file'.format(section, filename))\n",
    " \n",
    "    return db"
   ]
  },
  {
   "cell_type": "code",
   "execution_count": null,
   "metadata": {},
   "outputs": [],
   "source": []
  },
  {
   "cell_type": "code",
   "execution_count": null,
   "metadata": {},
   "outputs": [],
   "source": []
  },
  {
   "cell_type": "code",
   "execution_count": 4,
   "metadata": {},
   "outputs": [],
   "source": [
    "# Connect to local database\n",
    "from sqlalchemy import create_engine\n",
    "#engine = create_engine(f\"postgresql://{username}:{password}@{host}:{port}/employee_db\")\n",
    "#conndb = engine.connect()"
   ]
  },
  {
   "cell_type": "code",
   "execution_count": 6,
   "metadata": {},
   "outputs": [],
   "source": [
    "# Review tables present in database\n",
    "#engine.table_names()"
   ]
  },
  {
   "cell_type": "code",
   "execution_count": 8,
   "metadata": {},
   "outputs": [
    {
     "ename": "SyntaxError",
     "evalue": "EOL while scanning string literal (<ipython-input-8-71a47086b728>, line 2)",
     "output_type": "error",
     "traceback": [
      "\u001b[1;36m  File \u001b[1;32m\"<ipython-input-8-71a47086b728>\"\u001b[1;36m, line \u001b[1;32m2\u001b[0m\n\u001b[1;33m    employee_df = pd.read_sql_query(\"\u001b[0m\n\u001b[1;37m                                      ^\u001b[0m\n\u001b[1;31mSyntaxError\u001b[0m\u001b[1;31m:\u001b[0m EOL while scanning string literal\n"
     ]
    }
   ],
   "source": [
    "#\n",
    "employee_df = pd.read_sql_query(\" \n",
    "SELECT * FROM salaries \\ \n",
    "INNER JOIN employees ON employees.emp_no = salaries.emp_no \\\n",
    "INNER JOIN titles ON titles.emp_no = employees.emp_no\",connection)"
   ]
  },
  {
   "cell_type": "code",
   "execution_count": null,
   "metadata": {},
   "outputs": [],
   "source": [
    "#\n",
    "employee_df.describe()"
   ]
  },
  {
   "cell_type": "code",
   "execution_count": null,
   "metadata": {},
   "outputs": [],
   "source": [
    "#\n",
    "employee_df.head()"
   ]
  },
  {
   "cell_type": "code",
   "execution_count": null,
   "metadata": {},
   "outputs": [],
   "source": [
    "# \n",
    "employee_df['salary'].plot.hist(grid=True,title=title, figsize=(20, 10)) \n",
    "title='Distribution by Salary' \n",
    "\n",
    "# Save the Figure \n",
    "plt.savefig(f\"{title.replace(' ','_')}.png\") \n",
    "plt.show()"
   ]
  },
  {
   "cell_type": "code",
   "execution_count": null,
   "metadata": {},
   "outputs": [],
   "source": [
    "salary_df = employee_df[['salary','title']].groupby('title').mean().copy()"
   ]
  },
  {
   "cell_type": "code",
   "execution_count": null,
   "metadata": {},
   "outputs": [],
   "source": [
    "#\n",
    "salary_df.plot.bar(grid=True,title=title,figsize=(20, 10)) \n",
    "plt.xticks(rotation=45) \n",
    "title='Mean Salary by Title' \n",
    "\n",
    "# Save the Figure \n",
    "plt.savefig(f\"{title.replace(' ','_')}.png\") \n",
    "plt.show()"
   ]
  },
  {
   "cell_type": "code",
   "execution_count": null,
   "metadata": {},
   "outputs": [],
   "source": [
    "#\n",
    "salary_df.head()\n"
   ]
  },
  {
   "cell_type": "code",
   "execution_count": null,
   "metadata": {},
   "outputs": [],
   "source": []
  },
  {
   "cell_type": "code",
   "execution_count": null,
   "metadata": {},
   "outputs": [],
   "source": [
    "#ax = avg_salary.sort_values(\"salary\").plot(kind=\"barh\",legend=None);\n",
    "#ax.set_title(\"Average Salary by Position Title\");\n",
    "#ax.set_xlabel(\"Salary\");\n",
    "#ax.set_ylabel(\"Position Title\");\n"
   ]
  },
  {
   "cell_type": "code",
   "execution_count": null,
   "metadata": {},
   "outputs": [],
   "source": [
    "#\n",
    "salary_df.query(\"emp_no == 499942\")\n"
   ]
  },
  {
   "cell_type": "code",
   "execution_count": null,
   "metadata": {},
   "outputs": [],
   "source": [
    "## EOF ##"
   ]
  }
 ],
 "metadata": {
  "kernelspec": {
   "display_name": "Python 3",
   "language": "python",
   "name": "python3"
  },
  "language_info": {
   "codemirror_mode": {
    "name": "ipython",
    "version": 3
   },
   "file_extension": ".py",
   "mimetype": "text/x-python",
   "name": "python",
   "nbconvert_exporter": "python",
   "pygments_lexer": "ipython3",
   "version": "3.6.10"
  }
 },
 "nbformat": 4,
 "nbformat_minor": 4
}
