{
 "cells": [
  {
   "cell_type": "markdown",
   "metadata": {},
   "source": [
    "# SQL Homework - Employee Database: A Mystery in Two Parts\n",
    "\n",
    "\n",
    "## File Information and Author\n",
    "#### ----------------------------------------------\n",
    "#### HEADER COMMENTS\n",
    "#### DATE May 8, 2020\n",
    "#### AUTHOR Rob Gauer\n",
    "#### FILE NAME 'sql_homework_employee_db_bonus'\n",
    "#### ----------------------------------------------\n",
    "\n",
    "## Bonus (Optional)\n",
    "##### As you examine the data, you are overcome with a creeping suspicion that the dataset is fake. \n",
    "##### You surmise that your boss handed you spurious data in order to test the data engineering skills of a new employee. \n",
    "##### To confirm your hunch, you decide to take the following steps to generate a visualization of the data, \n",
    "##### with which you will confront your boss:\n",
    "\n",
    "##### 1. Import the SQL database into Pandas. (Yes, you could read the CSVs directly in Pandas, but you are, after all, trying to prove your technical mettle.) This step may require some research. Feel free to use the code below to get started. Be sure to make any necessary modifications for your username, password, host, port, and database name:\n",
    "    # from sqlalchemy import create_engine\n",
    "    # engine = create_engine('postgresql://localhost:5432/<your_db_name>')\n",
    "    # connection = engine.connect()\n",
    "    \n",
    "##### Consult SQLAlchemy documentation for more information.\n",
    "##### If using a password, do not upload your password to your GitHub repository. \n",
    "##### See https://www.youtube.com/watch?v=2uaTPmNvH0I and https://martin-thoma.com/configuration-files-in-python/ \n",
    "##### for more information.\n",
    "\n",
    "##### 2. Create a histogram to visualize the most common salary ranges for employees.\n",
    "##### 3. Create a bar chart of average salary by title.\n",
    "#####"
   ]
  },
  {
   "cell_type": "code",
   "execution_count": null,
   "metadata": {},
   "outputs": [],
   "source": [
    "import numpy as np\n",
    "import pandas as pd\n",
    "from sqlalchemy import create_engine\n",
    "from config import username, password, host, port # need config.py file containing this info\n",
    "import matplotlib.pyplot as plt\n",
    "%matplotlib inline\n"
   ]
  },
  {
   "cell_type": "code",
   "execution_count": null,
   "metadata": {},
   "outputs": [],
   "source": [
    "# connect to local database\n",
    "engine = create_engine(f\"postgresql://{username}:{password}@{host}:{port}/employee_db_schemata\")\n",
    "conn = engine.connect()\n"
   ]
  },
  {
   "cell_type": "code",
   "execution_count": null,
   "metadata": {},
   "outputs": [],
   "source": [
    "# review tables present in database\n",
    "engine.table_names()\n"
   ]
  },
  {
   "cell_type": "code",
   "execution_count": null,
   "metadata": {},
   "outputs": [],
   "source": [
    "# select all the unique titles we expect in our bar graph\n",
    "pd.read_sql(\"SELECT DISTINCT title FROM titles ORDER BY title\",conn)\n"
   ]
  },
  {
   "cell_type": "code",
   "execution_count": null,
   "metadata": {},
   "outputs": [],
   "source": [
    "query = \"\"\"\n",
    "        SELECT t.emp_no, t.title, s.salary\n",
    "        FROM employees AS e\n",
    "        LEFT JOIN titles AS t\n",
    "            ON e.emp_no=t.emp_no\n",
    "        LEFT JOIN salaries AS s\n",
    "            ON e.emp_no=s.emp_no\n",
    "        \n",
    "        \"\"\"\n"
   ]
  },
  {
   "cell_type": "code",
   "execution_count": null,
   "metadata": {},
   "outputs": [],
   "source": [
    "salary_df = pd.read_sql(query,conn)"
   ]
  },
  {
   "cell_type": "code",
   "execution_count": null,
   "metadata": {},
   "outputs": [],
   "source": [
    "# what is the row count?\n",
    "len(salary_df)\n"
   ]
  },
  {
   "cell_type": "code",
   "execution_count": null,
   "metadata": {},
   "outputs": [],
   "source": [
    "salary_df.head()\n"
   ]
  },
  {
   "cell_type": "code",
   "execution_count": null,
   "metadata": {},
   "outputs": [],
   "source": [
    "avg_salary = salary_df.groupby(\"title\").agg({\"salary\":\"mean\"})\n",
    "avg_salary\n"
   ]
  },
  {
   "cell_type": "code",
   "execution_count": null,
   "metadata": {},
   "outputs": [],
   "source": [
    "ax = avg_salary.sort_values(\"salary\").plot(kind=\"barh\",legend=None);\n",
    "ax.set_title(\"Average Salary by Position Title\");\n",
    "ax.set_xlabel(\"Salary\");\n",
    "ax.set_ylabel(\"Position Title\");\n"
   ]
  },
  {
   "cell_type": "code",
   "execution_count": null,
   "metadata": {},
   "outputs": [],
   "source": [
    "salary_df.query(\"emp_no == 499942\")\n"
   ]
  },
  {
   "cell_type": "code",
   "execution_count": null,
   "metadata": {},
   "outputs": [],
   "source": []
  }
 ],
 "metadata": {
  "kernelspec": {
   "display_name": "Python 3",
   "language": "python",
   "name": "python3"
  },
  "language_info": {
   "codemirror_mode": {
    "name": "ipython",
    "version": 3
   },
   "file_extension": ".py",
   "mimetype": "text/x-python",
   "name": "python",
   "nbconvert_exporter": "python",
   "pygments_lexer": "ipython3",
   "version": "3.6.10"
  }
 },
 "nbformat": 4,
 "nbformat_minor": 4
}
