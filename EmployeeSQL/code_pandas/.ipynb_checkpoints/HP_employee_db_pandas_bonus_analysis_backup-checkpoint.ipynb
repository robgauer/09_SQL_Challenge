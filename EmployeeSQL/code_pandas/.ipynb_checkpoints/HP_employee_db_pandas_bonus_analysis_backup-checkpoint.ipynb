{
 "cells": [
  {
   "cell_type": "markdown",
   "metadata": {},
   "source": [
    "# SQL Homework - Employee Database: A Mystery in Two Parts\n",
    "\n",
    "\n",
    "## File Information and Author\n",
    "#### ----------------------------------------------\n",
    "#### HEADER COMMENTS\n",
    "#### DATE May 8, 2020\n",
    "#### AUTHOR Rob Gauer\n",
    "#### FILE NAME 'HP_employee_db_pandas_bonus_analysis.ipynb'\n",
    "#### ----------------------------------------------\n",
    "\n",
    "## Bonus (Optional)\n",
    "##### As you examine the data, you are overcome with a creeping suspicion that the dataset is fake. \n",
    "##### You surmise that your boss handed you spurious data in order to test the data engineering skills of a new employee. \n",
    "##### To confirm your hunch, you decide to take the following steps to generate a visualization of the data, \n",
    "##### with which you will confront your boss:\n",
    "\n",
    "##### 1. Import the SQL database into Pandas. (Yes, you could read the CSVs directly in Pandas, but you are, after all, trying to prove your technical mettle.) This step may require some research. Feel free to use the code below to get started. Be sure to make any necessary modifications for your username, password, host, port, and database name:\n",
    "    # from sqlalchemy import create_engine\n",
    "    # engine = create_engine('postgresql://localhost:5432/<your_db_name>')\n",
    "    # connection = engine.connect()\n",
    "    \n",
    "##### Consult SQLAlchemy documentation for more information.\n",
    "##### If using a password, do not upload your password to your GitHub repository. \n",
    "##### See https://www.youtube.com/watch?v=2uaTPmNvH0I and https://martin-thoma.com/configuration-files-in-python/ \n",
    "##### for more information.\n",
    "\n",
    "##### 2. Create a histogram to visualize the most common salary ranges for employees.\n",
    "##### 3. Create a bar chart of average salary by title.\n",
    "#####"
   ]
  },
  {
   "cell_type": "code",
   "execution_count": 1,
   "metadata": {},
   "outputs": [],
   "source": [
    "# Dependencies and Setup\n",
    "#%matplotlib notebook\n",
    "import matplotlib.pyplot as plt\n",
    "import numpy as np\n",
    "import pandas as pd\n",
    "import os\n",
    "import sys\n",
    "import psycopg2\n",
    "\n",
    "# define current date string to append to the names of output files...\n",
    "import datetime  \n",
    "def _getToday(): return datetime.date.today().strftime(\"%Y%m%d\")   "
   ]
  },
  {
   "cell_type": "markdown",
   "metadata": {},
   "source": [
    "# Secure Connectivity"
   ]
  },
  {
   "cell_type": "code",
   "execution_count": 2,
   "metadata": {},
   "outputs": [],
   "source": [
    "# Secure database connectivity\n",
    "# Import path to permissions file for database\n",
    "sys.path.insert(0, \"/Users/rober/Desktop/ClassHomework/keys\")\n",
    "\n",
    "# Methon 1 - from conndb.py file import username, password, host, for secure connectivity\n",
    "from conndb import (username, password, host)\n",
    "\n",
    "# Method 2 - from conndb import username, password, host, port, for secure connectivity\n",
    "#from conndb import host\n",
    "#from conndb import port\n",
    "#from conndb import username\n",
    "#from conndb import password\n",
    "#print(username)\n",
    "#print(password)\n",
    "#print(host)\n",
    "#print(port)"
   ]
  },
  {
   "cell_type": "markdown",
   "metadata": {},
   "source": [
    "# Database Connectivity"
   ]
  },
  {
   "cell_type": "code",
   "execution_count": 3,
   "metadata": {},
   "outputs": [],
   "source": [
    "# Connect to local database\n",
    "from sqlalchemy import create_engine\n",
    "engine = create_engine(f\"postgresql://{username}:{password}@{host}:5432/employees_db\")\n",
    "#engine = create_engine(f\"postgresql://{username}:{password}@{host}/employees_db\")\n",
    "connection = engine.connect()"
   ]
  },
  {
   "cell_type": "code",
   "execution_count": 4,
   "metadata": {},
   "outputs": [
    {
     "data": {
      "text/plain": [
       "['salaries', 'departments', 'dept_manager', 'dept_emp', 'titles', 'employees']"
      ]
     },
     "execution_count": 4,
     "metadata": {},
     "output_type": "execute_result"
    }
   ],
   "source": [
    "# Review tables present in database\n",
    "engine.table_names()"
   ]
  },
  {
   "cell_type": "markdown",
   "metadata": {},
   "source": [
    "# Create DataFrames"
   ]
  },
  {
   "cell_type": "code",
   "execution_count": 5,
   "metadata": {},
   "outputs": [],
   "source": [
    "# Query database and create pandas dataframe\n",
    "employees_df = pd.read_sql_query(\"\\\n",
    "SELECT * FROM salaries \\\n",
    "INNER JOIN employees ON employees.emp_no = salaries.emp_no \\\n",
    "INNER JOIN titles ON titles.title_id = employees.emp_title_id\",connection)"
   ]
  },
  {
   "cell_type": "code",
   "execution_count": 6,
   "metadata": {},
   "outputs": [
    {
     "data": {
      "text/plain": [
       "Index(['emp_no', 'salary', 'emp_no', 'emp_title_id', 'birth_date',\n",
       "       'first_name', 'last_name', 'sex', 'hire_date', 'title_id', 'title'],\n",
       "      dtype='object')"
      ]
     },
     "execution_count": 6,
     "metadata": {},
     "output_type": "execute_result"
    }
   ],
   "source": [
    "# Display column headers - validated\n",
    "employees_df.columns"
   ]
  },
  {
   "cell_type": "code",
   "execution_count": 7,
   "metadata": {},
   "outputs": [
    {
     "data": {
      "text/html": [
       "<div>\n",
       "<style scoped>\n",
       "    .dataframe tbody tr th:only-of-type {\n",
       "        vertical-align: middle;\n",
       "    }\n",
       "\n",
       "    .dataframe tbody tr th {\n",
       "        vertical-align: top;\n",
       "    }\n",
       "\n",
       "    .dataframe thead th {\n",
       "        text-align: right;\n",
       "    }\n",
       "</style>\n",
       "<table border=\"1\" class=\"dataframe\">\n",
       "  <thead>\n",
       "    <tr style=\"text-align: right;\">\n",
       "      <th></th>\n",
       "      <th>emp_no</th>\n",
       "      <th>salary</th>\n",
       "      <th>emp_no</th>\n",
       "      <th>emp_title_id</th>\n",
       "      <th>birth_date</th>\n",
       "      <th>first_name</th>\n",
       "      <th>last_name</th>\n",
       "      <th>sex</th>\n",
       "      <th>hire_date</th>\n",
       "      <th>title_id</th>\n",
       "      <th>title</th>\n",
       "    </tr>\n",
       "  </thead>\n",
       "  <tbody>\n",
       "    <tr>\n",
       "      <th>0</th>\n",
       "      <td>10011</td>\n",
       "      <td>42365.0</td>\n",
       "      <td>10011</td>\n",
       "      <td>s0001</td>\n",
       "      <td>1953-11-07</td>\n",
       "      <td>Mary</td>\n",
       "      <td>Sluis</td>\n",
       "      <td>F                                             ...</td>\n",
       "      <td>1990-01-22</td>\n",
       "      <td>s0001</td>\n",
       "      <td>Staff</td>\n",
       "    </tr>\n",
       "    <tr>\n",
       "      <th>1</th>\n",
       "      <td>10013</td>\n",
       "      <td>40000.0</td>\n",
       "      <td>10013</td>\n",
       "      <td>s0002</td>\n",
       "      <td>1963-06-07</td>\n",
       "      <td>Eberhardt</td>\n",
       "      <td>Terkki</td>\n",
       "      <td>M                                             ...</td>\n",
       "      <td>1985-10-20</td>\n",
       "      <td>s0002</td>\n",
       "      <td>Senior Staff</td>\n",
       "    </tr>\n",
       "    <tr>\n",
       "      <th>2</th>\n",
       "      <td>10017</td>\n",
       "      <td>71380.0</td>\n",
       "      <td>10017</td>\n",
       "      <td>s0001</td>\n",
       "      <td>1958-07-06</td>\n",
       "      <td>Cristinel</td>\n",
       "      <td>Bouloucos</td>\n",
       "      <td>F                                             ...</td>\n",
       "      <td>1993-08-03</td>\n",
       "      <td>s0001</td>\n",
       "      <td>Staff</td>\n",
       "    </tr>\n",
       "    <tr>\n",
       "      <th>3</th>\n",
       "      <td>10037</td>\n",
       "      <td>40000.0</td>\n",
       "      <td>10037</td>\n",
       "      <td>e0003</td>\n",
       "      <td>1963-07-22</td>\n",
       "      <td>Pradeep</td>\n",
       "      <td>Makrucki</td>\n",
       "      <td>M                                             ...</td>\n",
       "      <td>1990-12-05</td>\n",
       "      <td>e0003</td>\n",
       "      <td>Senior Engineer</td>\n",
       "    </tr>\n",
       "    <tr>\n",
       "      <th>4</th>\n",
       "      <td>10078</td>\n",
       "      <td>47280.0</td>\n",
       "      <td>10078</td>\n",
       "      <td>e0002</td>\n",
       "      <td>1959-12-25</td>\n",
       "      <td>Danel</td>\n",
       "      <td>Mondadori</td>\n",
       "      <td>F                                             ...</td>\n",
       "      <td>1987-05-26</td>\n",
       "      <td>e0002</td>\n",
       "      <td>Engineer</td>\n",
       "    </tr>\n",
       "  </tbody>\n",
       "</table>\n",
       "</div>"
      ],
      "text/plain": [
       "   emp_no   salary  emp_no emp_title_id  birth_date first_name  last_name  \\\n",
       "0   10011  42365.0   10011        s0001  1953-11-07       Mary      Sluis   \n",
       "1   10013  40000.0   10013        s0002  1963-06-07  Eberhardt     Terkki   \n",
       "2   10017  71380.0   10017        s0001  1958-07-06  Cristinel  Bouloucos   \n",
       "3   10037  40000.0   10037        e0003  1963-07-22    Pradeep   Makrucki   \n",
       "4   10078  47280.0   10078        e0002  1959-12-25      Danel  Mondadori   \n",
       "\n",
       "                                                 sex   hire_date title_id  \\\n",
       "0  F                                             ...  1990-01-22    s0001   \n",
       "1  M                                             ...  1985-10-20    s0002   \n",
       "2  F                                             ...  1993-08-03    s0001   \n",
       "3  M                                             ...  1990-12-05    e0003   \n",
       "4  F                                             ...  1987-05-26    e0002   \n",
       "\n",
       "             title  \n",
       "0            Staff  \n",
       "1     Senior Staff  \n",
       "2            Staff  \n",
       "3  Senior Engineer  \n",
       "4         Engineer  "
      ]
     },
     "execution_count": 7,
     "metadata": {},
     "output_type": "execute_result"
    }
   ],
   "source": [
    "# Display dataframe\n",
    "employees_df.head()"
   ]
  },
  {
   "cell_type": "code",
   "execution_count": 8,
   "metadata": {},
   "outputs": [
    {
     "data": {
      "text/html": [
       "<div>\n",
       "<style scoped>\n",
       "    .dataframe tbody tr th:only-of-type {\n",
       "        vertical-align: middle;\n",
       "    }\n",
       "\n",
       "    .dataframe tbody tr th {\n",
       "        vertical-align: top;\n",
       "    }\n",
       "\n",
       "    .dataframe thead th {\n",
       "        text-align: right;\n",
       "    }\n",
       "</style>\n",
       "<table border=\"1\" class=\"dataframe\">\n",
       "  <thead>\n",
       "    <tr style=\"text-align: right;\">\n",
       "      <th></th>\n",
       "      <th>Employee No.</th>\n",
       "      <th>Salary</th>\n",
       "      <th>Employee No.</th>\n",
       "      <th>Employee Title ID</th>\n",
       "      <th>Birth Date</th>\n",
       "      <th>First Name</th>\n",
       "      <th>Last Name</th>\n",
       "      <th>Sex</th>\n",
       "      <th>Hire Date</th>\n",
       "      <th>Title ID</th>\n",
       "      <th>Title</th>\n",
       "    </tr>\n",
       "  </thead>\n",
       "  <tbody>\n",
       "    <tr>\n",
       "      <th>0</th>\n",
       "      <td>10011</td>\n",
       "      <td>42365.0</td>\n",
       "      <td>10011</td>\n",
       "      <td>s0001</td>\n",
       "      <td>1953-11-07</td>\n",
       "      <td>Mary</td>\n",
       "      <td>Sluis</td>\n",
       "      <td>F                                             ...</td>\n",
       "      <td>1990-01-22</td>\n",
       "      <td>s0001</td>\n",
       "      <td>Staff</td>\n",
       "    </tr>\n",
       "    <tr>\n",
       "      <th>1</th>\n",
       "      <td>10013</td>\n",
       "      <td>40000.0</td>\n",
       "      <td>10013</td>\n",
       "      <td>s0002</td>\n",
       "      <td>1963-06-07</td>\n",
       "      <td>Eberhardt</td>\n",
       "      <td>Terkki</td>\n",
       "      <td>M                                             ...</td>\n",
       "      <td>1985-10-20</td>\n",
       "      <td>s0002</td>\n",
       "      <td>Senior Staff</td>\n",
       "    </tr>\n",
       "    <tr>\n",
       "      <th>2</th>\n",
       "      <td>10017</td>\n",
       "      <td>71380.0</td>\n",
       "      <td>10017</td>\n",
       "      <td>s0001</td>\n",
       "      <td>1958-07-06</td>\n",
       "      <td>Cristinel</td>\n",
       "      <td>Bouloucos</td>\n",
       "      <td>F                                             ...</td>\n",
       "      <td>1993-08-03</td>\n",
       "      <td>s0001</td>\n",
       "      <td>Staff</td>\n",
       "    </tr>\n",
       "    <tr>\n",
       "      <th>3</th>\n",
       "      <td>10037</td>\n",
       "      <td>40000.0</td>\n",
       "      <td>10037</td>\n",
       "      <td>e0003</td>\n",
       "      <td>1963-07-22</td>\n",
       "      <td>Pradeep</td>\n",
       "      <td>Makrucki</td>\n",
       "      <td>M                                             ...</td>\n",
       "      <td>1990-12-05</td>\n",
       "      <td>e0003</td>\n",
       "      <td>Senior Engineer</td>\n",
       "    </tr>\n",
       "    <tr>\n",
       "      <th>4</th>\n",
       "      <td>10078</td>\n",
       "      <td>47280.0</td>\n",
       "      <td>10078</td>\n",
       "      <td>e0002</td>\n",
       "      <td>1959-12-25</td>\n",
       "      <td>Danel</td>\n",
       "      <td>Mondadori</td>\n",
       "      <td>F                                             ...</td>\n",
       "      <td>1987-05-26</td>\n",
       "      <td>e0002</td>\n",
       "      <td>Engineer</td>\n",
       "    </tr>\n",
       "  </tbody>\n",
       "</table>\n",
       "</div>"
      ],
      "text/plain": [
       "   Employee No.   Salary  Employee No. Employee Title ID  Birth Date  \\\n",
       "0         10011  42365.0         10011             s0001  1953-11-07   \n",
       "1         10013  40000.0         10013             s0002  1963-06-07   \n",
       "2         10017  71380.0         10017             s0001  1958-07-06   \n",
       "3         10037  40000.0         10037             e0003  1963-07-22   \n",
       "4         10078  47280.0         10078             e0002  1959-12-25   \n",
       "\n",
       "  First Name  Last Name                                                Sex  \\\n",
       "0       Mary      Sluis  F                                             ...   \n",
       "1  Eberhardt     Terkki  M                                             ...   \n",
       "2  Cristinel  Bouloucos  F                                             ...   \n",
       "3    Pradeep   Makrucki  M                                             ...   \n",
       "4      Danel  Mondadori  F                                             ...   \n",
       "\n",
       "    Hire Date Title ID            Title  \n",
       "0  1990-01-22    s0001            Staff  \n",
       "1  1985-10-20    s0002     Senior Staff  \n",
       "2  1993-08-03    s0001            Staff  \n",
       "3  1990-12-05    e0003  Senior Engineer  \n",
       "4  1987-05-26    e0002         Engineer  "
      ]
     },
     "execution_count": 8,
     "metadata": {},
     "output_type": "execute_result"
    }
   ],
   "source": [
    "# Clean up dataframe - rename columns from dataframe \n",
    "# NOTE two instances of column header called 'emp_no' - both will be renamed to 'Employee No.'.\n",
    "employees_df=employees_df.rename(columns={'emp_no':'Employee No.', 'salary':'Salary', 'emp_title_id':'Employee Title ID', 'birth_date':'Birth Date', 'first_name':'First Name', 'last_name':'Last Name', 'sex':'Sex', 'hire_date':'Hire Date', 'title_id':'Title ID','title':'Title'})\n",
    "employees_df.head()"
   ]
  },
  {
   "cell_type": "code",
   "execution_count": 9,
   "metadata": {},
   "outputs": [
    {
     "data": {
      "text/plain": [
       "Index(['Employee No.', 'Salary', 'Employee No.', 'Employee Title ID',\n",
       "       'Birth Date', 'First Name', 'Last Name', 'Sex', 'Hire Date', 'Title ID',\n",
       "       'Title'],\n",
       "      dtype='object')"
      ]
     },
     "execution_count": 9,
     "metadata": {},
     "output_type": "execute_result"
    }
   ],
   "source": [
    "# Display column headers - validated\n",
    "employees_df.columns"
   ]
  },
  {
   "cell_type": "code",
   "execution_count": 10,
   "metadata": {},
   "outputs": [
    {
     "data": {
      "text/html": [
       "<div>\n",
       "<style scoped>\n",
       "    .dataframe tbody tr th:only-of-type {\n",
       "        vertical-align: middle;\n",
       "    }\n",
       "\n",
       "    .dataframe tbody tr th {\n",
       "        vertical-align: top;\n",
       "    }\n",
       "\n",
       "    .dataframe thead th {\n",
       "        text-align: right;\n",
       "    }\n",
       "</style>\n",
       "<table border=\"1\" class=\"dataframe\">\n",
       "  <thead>\n",
       "    <tr style=\"text-align: right;\">\n",
       "      <th></th>\n",
       "      <th>Employee No.</th>\n",
       "      <th>Employee No.</th>\n",
       "      <th>Last Name</th>\n",
       "      <th>First Name</th>\n",
       "      <th>Sex</th>\n",
       "      <th>Birth Date</th>\n",
       "      <th>Hire Date</th>\n",
       "      <th>Title ID</th>\n",
       "      <th>Title</th>\n",
       "      <th>Salary</th>\n",
       "    </tr>\n",
       "  </thead>\n",
       "  <tbody>\n",
       "    <tr>\n",
       "      <th>0</th>\n",
       "      <td>10011</td>\n",
       "      <td>10011</td>\n",
       "      <td>Sluis</td>\n",
       "      <td>Mary</td>\n",
       "      <td>F                                             ...</td>\n",
       "      <td>1953-11-07</td>\n",
       "      <td>1990-01-22</td>\n",
       "      <td>s0001</td>\n",
       "      <td>Staff</td>\n",
       "      <td>42365.0</td>\n",
       "    </tr>\n",
       "    <tr>\n",
       "      <th>1</th>\n",
       "      <td>10013</td>\n",
       "      <td>10013</td>\n",
       "      <td>Terkki</td>\n",
       "      <td>Eberhardt</td>\n",
       "      <td>M                                             ...</td>\n",
       "      <td>1963-06-07</td>\n",
       "      <td>1985-10-20</td>\n",
       "      <td>s0002</td>\n",
       "      <td>Senior Staff</td>\n",
       "      <td>40000.0</td>\n",
       "    </tr>\n",
       "    <tr>\n",
       "      <th>2</th>\n",
       "      <td>10017</td>\n",
       "      <td>10017</td>\n",
       "      <td>Bouloucos</td>\n",
       "      <td>Cristinel</td>\n",
       "      <td>F                                             ...</td>\n",
       "      <td>1958-07-06</td>\n",
       "      <td>1993-08-03</td>\n",
       "      <td>s0001</td>\n",
       "      <td>Staff</td>\n",
       "      <td>71380.0</td>\n",
       "    </tr>\n",
       "    <tr>\n",
       "      <th>3</th>\n",
       "      <td>10037</td>\n",
       "      <td>10037</td>\n",
       "      <td>Makrucki</td>\n",
       "      <td>Pradeep</td>\n",
       "      <td>M                                             ...</td>\n",
       "      <td>1963-07-22</td>\n",
       "      <td>1990-12-05</td>\n",
       "      <td>e0003</td>\n",
       "      <td>Senior Engineer</td>\n",
       "      <td>40000.0</td>\n",
       "    </tr>\n",
       "    <tr>\n",
       "      <th>4</th>\n",
       "      <td>10078</td>\n",
       "      <td>10078</td>\n",
       "      <td>Mondadori</td>\n",
       "      <td>Danel</td>\n",
       "      <td>F                                             ...</td>\n",
       "      <td>1959-12-25</td>\n",
       "      <td>1987-05-26</td>\n",
       "      <td>e0002</td>\n",
       "      <td>Engineer</td>\n",
       "      <td>47280.0</td>\n",
       "    </tr>\n",
       "    <tr>\n",
       "      <th>...</th>\n",
       "      <td>...</td>\n",
       "      <td>...</td>\n",
       "      <td>...</td>\n",
       "      <td>...</td>\n",
       "      <td>...</td>\n",
       "      <td>...</td>\n",
       "      <td>...</td>\n",
       "      <td>...</td>\n",
       "      <td>...</td>\n",
       "      <td>...</td>\n",
       "    </tr>\n",
       "    <tr>\n",
       "      <th>300019</th>\n",
       "      <td>499814</td>\n",
       "      <td>499814</td>\n",
       "      <td>Wielonsky</td>\n",
       "      <td>Georgi</td>\n",
       "      <td>M                                             ...</td>\n",
       "      <td>1960-12-28</td>\n",
       "      <td>1989-01-31</td>\n",
       "      <td>s0001</td>\n",
       "      <td>Staff</td>\n",
       "      <td>54707.0</td>\n",
       "    </tr>\n",
       "    <tr>\n",
       "      <th>300020</th>\n",
       "      <td>499861</td>\n",
       "      <td>499861</td>\n",
       "      <td>Barriga</td>\n",
       "      <td>Subhash</td>\n",
       "      <td>F                                             ...</td>\n",
       "      <td>1959-11-18</td>\n",
       "      <td>1998-02-15</td>\n",
       "      <td>s0001</td>\n",
       "      <td>Staff</td>\n",
       "      <td>40000.0</td>\n",
       "    </tr>\n",
       "    <tr>\n",
       "      <th>300021</th>\n",
       "      <td>499869</td>\n",
       "      <td>499869</td>\n",
       "      <td>Reghbati</td>\n",
       "      <td>Adel</td>\n",
       "      <td>M                                             ...</td>\n",
       "      <td>1960-02-21</td>\n",
       "      <td>1992-07-31</td>\n",
       "      <td>e0003</td>\n",
       "      <td>Senior Engineer</td>\n",
       "      <td>40000.0</td>\n",
       "    </tr>\n",
       "    <tr>\n",
       "      <th>300022</th>\n",
       "      <td>499908</td>\n",
       "      <td>499908</td>\n",
       "      <td>Coorg</td>\n",
       "      <td>Toong</td>\n",
       "      <td>F                                             ...</td>\n",
       "      <td>1953-07-19</td>\n",
       "      <td>1988-12-02</td>\n",
       "      <td>e0003</td>\n",
       "      <td>Senior Engineer</td>\n",
       "      <td>40356.0</td>\n",
       "    </tr>\n",
       "    <tr>\n",
       "      <th>300023</th>\n",
       "      <td>499936</td>\n",
       "      <td>499936</td>\n",
       "      <td>Himler</td>\n",
       "      <td>Chiranjit</td>\n",
       "      <td>M                                             ...</td>\n",
       "      <td>1954-02-11</td>\n",
       "      <td>1994-10-31</td>\n",
       "      <td>e0002</td>\n",
       "      <td>Engineer</td>\n",
       "      <td>40000.0</td>\n",
       "    </tr>\n",
       "  </tbody>\n",
       "</table>\n",
       "<p>300024 rows × 10 columns</p>\n",
       "</div>"
      ],
      "text/plain": [
       "        Employee No.  Employee No.  Last Name First Name  \\\n",
       "0              10011         10011      Sluis       Mary   \n",
       "1              10013         10013     Terkki  Eberhardt   \n",
       "2              10017         10017  Bouloucos  Cristinel   \n",
       "3              10037         10037   Makrucki    Pradeep   \n",
       "4              10078         10078  Mondadori      Danel   \n",
       "...              ...           ...        ...        ...   \n",
       "300019        499814        499814  Wielonsky     Georgi   \n",
       "300020        499861        499861    Barriga    Subhash   \n",
       "300021        499869        499869   Reghbati       Adel   \n",
       "300022        499908        499908      Coorg      Toong   \n",
       "300023        499936        499936     Himler  Chiranjit   \n",
       "\n",
       "                                                      Sex  Birth Date  \\\n",
       "0       F                                             ...  1953-11-07   \n",
       "1       M                                             ...  1963-06-07   \n",
       "2       F                                             ...  1958-07-06   \n",
       "3       M                                             ...  1963-07-22   \n",
       "4       F                                             ...  1959-12-25   \n",
       "...                                                   ...         ...   \n",
       "300019  M                                             ...  1960-12-28   \n",
       "300020  F                                             ...  1959-11-18   \n",
       "300021  M                                             ...  1960-02-21   \n",
       "300022  F                                             ...  1953-07-19   \n",
       "300023  M                                             ...  1954-02-11   \n",
       "\n",
       "         Hire Date Title ID            Title   Salary  \n",
       "0       1990-01-22    s0001            Staff  42365.0  \n",
       "1       1985-10-20    s0002     Senior Staff  40000.0  \n",
       "2       1993-08-03    s0001            Staff  71380.0  \n",
       "3       1990-12-05    e0003  Senior Engineer  40000.0  \n",
       "4       1987-05-26    e0002         Engineer  47280.0  \n",
       "...            ...      ...              ...      ...  \n",
       "300019  1989-01-31    s0001            Staff  54707.0  \n",
       "300020  1998-02-15    s0001            Staff  40000.0  \n",
       "300021  1992-07-31    e0003  Senior Engineer  40000.0  \n",
       "300022  1988-12-02    e0003  Senior Engineer  40356.0  \n",
       "300023  1994-10-31    e0002         Engineer  40000.0  \n",
       "\n",
       "[300024 rows x 10 columns]"
      ]
     },
     "execution_count": 10,
     "metadata": {},
     "output_type": "execute_result"
    }
   ],
   "source": [
    "# Display dataframe\n",
    "employees_df=employees_df[['Employee No.','Last Name','First Name','Sex','Birth Date','Hire Date','Title ID','Title','Salary']]\n",
    "employees_df"
   ]
  },
  {
   "cell_type": "code",
   "execution_count": 11,
   "metadata": {},
   "outputs": [
    {
     "data": {
      "text/plain": [
       "Employee No.    300024\n",
       "Employee No.    300024\n",
       "Last Name       300024\n",
       "First Name      300024\n",
       "Sex             300024\n",
       "Birth Date      300024\n",
       "Hire Date       300024\n",
       "Title ID        300024\n",
       "Title           300024\n",
       "Salary          300024\n",
       "dtype: int64"
      ]
     },
     "execution_count": 11,
     "metadata": {},
     "output_type": "execute_result"
    }
   ],
   "source": [
    "# Display dataframe count \n",
    "employees_df.count()"
   ]
  },
  {
   "cell_type": "markdown",
   "metadata": {},
   "source": [
    "# CHART:  Histogram - Common Salary Ranges for Employees"
   ]
  },
  {
   "cell_type": "code",
   "execution_count": 17,
   "metadata": {},
   "outputs": [
    {
     "data": {
      "image/png": "[encoded data removed]",
      "text/plain": [
       "<Figure size 864x504 with 1 Axes>"
      ]
     },
     "metadata": {
      "needs_background": "light"
     },
     "output_type": "display_data"
    },
    {
     "data": {
      "text/plain": [
       "<Figure size 432x288 with 0 Axes>"
      ]
     },
     "metadata": {},
     "output_type": "display_data"
    }
   ],
   "source": [
    "## CHART: Histogram to visualize the most common salary ranges for employees.\n",
    "\n",
    "# Set a Title and labels\n",
    "title=('Employee Salary Distribution')\n",
    "#plt.ylabel('Freqency (Number of Employees)')\n",
    "#plt.ylabel(\"Frequency (Number of Employees)\") \n",
    "plt.xlabel(\"Salary - Annual (US Dollars)\")\n",
    "xticks = np.arange(40000,130000,10000)\n",
    "plt.xticks(xticks,rotation=45)\n",
    "\n",
    "# Define chart\n",
    "employees_df['Salary'].plot.hist(title=title, color='blue',figsize=(12, 7))\n",
    "# option for readibility - add grid=True\n",
    "\n",
    "# Save chart to file \n",
    "plt.savefig(\"../output_images/Histogram_Common_Salary_Ranges_for_Employees.png\") \n",
    "\n",
    "# Display figure\n",
    "plt.show()\n",
    "plt.tight_layout()"
   ]
  },
  {
   "cell_type": "code",
   "execution_count": 13,
   "metadata": {},
   "outputs": [
    {
     "data": {
      "text/html": [
       "<div>\n",
       "<style scoped>\n",
       "    .dataframe tbody tr th:only-of-type {\n",
       "        vertical-align: middle;\n",
       "    }\n",
       "\n",
       "    .dataframe tbody tr th {\n",
       "        vertical-align: top;\n",
       "    }\n",
       "\n",
       "    .dataframe thead th {\n",
       "        text-align: right;\n",
       "    }\n",
       "</style>\n",
       "<table border=\"1\" class=\"dataframe\">\n",
       "  <thead>\n",
       "    <tr style=\"text-align: right;\">\n",
       "      <th></th>\n",
       "      <th>Salary</th>\n",
       "    </tr>\n",
       "    <tr>\n",
       "      <th>Title</th>\n",
       "      <th></th>\n",
       "    </tr>\n",
       "  </thead>\n",
       "  <tbody>\n",
       "    <tr>\n",
       "      <th>Assistant Engineer</th>\n",
       "      <td>48564.434447</td>\n",
       "    </tr>\n",
       "    <tr>\n",
       "      <th>Engineer</th>\n",
       "      <td>48535.336511</td>\n",
       "    </tr>\n",
       "    <tr>\n",
       "      <th>Manager</th>\n",
       "      <td>51531.041667</td>\n",
       "    </tr>\n",
       "    <tr>\n",
       "      <th>Senior Engineer</th>\n",
       "      <td>48506.799871</td>\n",
       "    </tr>\n",
       "    <tr>\n",
       "      <th>Senior Staff</th>\n",
       "      <td>58550.172704</td>\n",
       "    </tr>\n",
       "    <tr>\n",
       "      <th>Staff</th>\n",
       "      <td>58465.382850</td>\n",
       "    </tr>\n",
       "    <tr>\n",
       "      <th>Technique Leader</th>\n",
       "      <td>48582.896092</td>\n",
       "    </tr>\n",
       "  </tbody>\n",
       "</table>\n",
       "</div>"
      ],
      "text/plain": [
       "                          Salary\n",
       "Title                           \n",
       "Assistant Engineer  48564.434447\n",
       "Engineer            48535.336511\n",
       "Manager             51531.041667\n",
       "Senior Engineer     48506.799871\n",
       "Senior Staff        58550.172704\n",
       "Staff               58465.382850\n",
       "Technique Leader    48582.896092"
      ]
     },
     "execution_count": 13,
     "metadata": {},
     "output_type": "execute_result"
    }
   ],
   "source": [
    "# Create dataframe to determine average salary by title.\n",
    "salary_df = employees_df[['Salary','Title']].groupby('Title').mean()\n",
    "salary_df"
   ]
  },
  {
   "cell_type": "markdown",
   "metadata": {},
   "source": [
    "# CHART:  Bar Chart - Average (mean) Salary by Title"
   ]
  },
  {
   "cell_type": "code",
   "execution_count": 16,
   "metadata": {},
   "outputs": [
    {
     "data": {
      "image/png": "[encoded data removed]",
      "text/plain": [
       "<Figure size 864x504 with 1 Axes>"
      ]
     },
     "metadata": {
      "needs_background": "light"
     },
     "output_type": "display_data"
    },
    {
     "data": {
      "text/plain": [
       "<Figure size 432x288 with 0 Axes>"
      ]
     },
     "metadata": {},
     "output_type": "display_data"
    }
   ],
   "source": [
    "## CHART: Bar Chart to visualize the average (mean) salary by title.\n",
    "\n",
    "# Define chart\n",
    "title='Average (Mean) Salary by Title'\n",
    "salary_df.plot.bar(title=title, color='green',figsize=(12, 7))\n",
    "# option for readibility - add grid=True\n",
    "\n",
    "# Set a Title and labels\n",
    "plt.xticks(rotation=45)\n",
    "plt.ylabel(\"Salary - Annual (US Dollars)\")\n",
    "plt.xlabel(\"Employee Title\")\n",
    "\n",
    "# Save chart to file \n",
    "plt.savefig(\"../output_images/Bar_Chart_Average_Salary_by_Title.png\") \n",
    "\n",
    "# Display figure\n",
    "plt.show()\n",
    "plt.tight_layout()"
   ]
  },
  {
   "cell_type": "markdown",
   "metadata": {},
   "source": [
    "# Epilogue - Display your Employee Information (499942)"
   ]
  },
  {
   "cell_type": "code",
   "execution_count": null,
   "metadata": {},
   "outputs": [],
   "source": [
    "## Display your employee information.\n",
    "\n",
    "# Evidence in hand, you march into your boss's office and present the visualization. \n",
    "# With a sly grin, your boss thanks you for your work. On your way out of the office, \n",
    "# you hear the words, \"Search your ID number.\" \n",
    "# You look down at your badge to see that your employee ID number is 499942.\n",
    "\n",
    "#employees_df\n",
    "employees_df.query('emp_no == 499942')"
   ]
  },
  {
   "cell_type": "markdown",
   "metadata": {},
   "source": [
    "# Create & View all Dataframes from Database (optional)"
   ]
  },
  {
   "cell_type": "code",
   "execution_count": null,
   "metadata": {},
   "outputs": [],
   "source": [
    "# Review tables present in database\n",
    "engine.table_names()"
   ]
  },
  {
   "cell_type": "code",
   "execution_count": null,
   "metadata": {},
   "outputs": [],
   "source": [
    "# Display the database table - Salaries (salaries).\n",
    "salaries_df=pd.read_sql('SELECT * FROM salaries', connection)\n",
    "salaries_df.head()"
   ]
  },
  {
   "cell_type": "code",
   "execution_count": null,
   "metadata": {},
   "outputs": [],
   "source": [
    "# Display the database table - Titles (titles).\n",
    "titles_df=pd.read_sql('SELECT * FROM titles', connection)\n",
    "titles_df.head()"
   ]
  },
  {
   "cell_type": "code",
   "execution_count": null,
   "metadata": {},
   "outputs": [],
   "source": [
    "# Display the database table - Employees (employees)\n",
    "employees2_df=pd.read_sql('SELECT * FROM employees', connection)\n",
    "employees2_df.head()"
   ]
  },
  {
   "cell_type": "code",
   "execution_count": null,
   "metadata": {},
   "outputs": [],
   "source": [
    "# Display the database table - Departments (departments).\n",
    "departments_df=pd.read_sql('SELECT * FROM departments', connection)\n",
    "departments_df.head()"
   ]
  },
  {
   "cell_type": "code",
   "execution_count": null,
   "metadata": {},
   "outputs": [],
   "source": [
    "# Display the database table - Department Manager (dept_manager).\n",
    "dept_manager_df=pd.read_sql('SELECT * FROM dept_manager', connection)\n",
    "dept_manager_df.head()"
   ]
  },
  {
   "cell_type": "code",
   "execution_count": null,
   "metadata": {},
   "outputs": [],
   "source": [
    "# Display the database table - Department Employees (dept_emp).\n",
    "dept_emp_df=pd.read_sql('SELECT * FROM dept_emp', connection)\n",
    "dept_emp_df.head()"
   ]
  },
  {
   "cell_type": "code",
   "execution_count": null,
   "metadata": {},
   "outputs": [],
   "source": [
    "## EOF ##\n"
   ]
  }
 ],
 "metadata": {
  "kernelspec": {
   "display_name": "Python 3",
   "language": "python",
   "name": "python3"
  },
  "language_info": {
   "codemirror_mode": {
    "name": "ipython",
    "version": 3
   },
   "file_extension": ".py",
   "mimetype": "text/x-python",
   "name": "python",
   "nbconvert_exporter": "python",
   "pygments_lexer": "ipython3",
   "version": "3.6.10"
  }
 },
 "nbformat": 4,
 "nbformat_minor": 4
}
